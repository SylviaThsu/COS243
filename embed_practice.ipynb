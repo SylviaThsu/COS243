{
 "cells": [
  {
   "cell_type": "code",
   "execution_count": 1,
   "metadata": {},
   "outputs": [
    {
     "name": "stderr",
     "output_type": "stream",
     "text": [
      "/opt/anaconda3/envs/cos243/lib/python3.10/site-packages/embedchain/embedder/huggingface.py:34: LangChainDeprecationWarning: The class `HuggingFaceEmbeddings` was deprecated in LangChain 0.2.2 and will be removed in 1.0. An updated version of the class exists in the :class:`~langchain-huggingface package and should be used instead. To use it run `pip install -U :class:`~langchain-huggingface` and import as `from :class:`~langchain_huggingface import HuggingFaceEmbeddings``.\n",
      "  embeddings = HuggingFaceEmbeddings(model_name=self.config.model, model_kwargs=self.config.model_kwargs)\n",
      "/opt/anaconda3/envs/cos243/lib/python3.10/site-packages/tqdm/auto.py:21: TqdmWarning: IProgress not found. Please update jupyter and ipywidgets. See https://ipywidgets.readthedocs.io/en/stable/user_install.html\n",
      "  from .autonotebook import tqdm as notebook_tqdm\n"
     ]
    },
    {
     "data": {
      "text/plain": [
       "'1e08d6380269c7b83e838b051b7c7ebe'"
      ]
     },
     "execution_count": 1,
     "metadata": {},
     "output_type": "execute_result"
    }
   ],
   "source": [
    "from embedchain import Pipeline as App\n",
    "app = App.from_config(config_path=\"phi35_ollama.yaml\")\n",
    "app.add(\"https://feitian.edu/catalogs/FTCM_Catalog_2022-2023.pdf\")"
   ]
  },
  {
   "cell_type": "code",
   "execution_count": 2,
   "metadata": {},
   "outputs": [
    {
     "name": "stderr",
     "output_type": "stream",
     "text": [
      "/opt/anaconda3/envs/cos243/lib/python3.10/site-packages/embedchain/llm/ollama.py:45: LangChainDeprecationWarning: The class `Ollama` was deprecated in LangChain 0.3.1 and will be removed in 1.0.0. An updated version of the class exists in the :class:`~langchain-ollama package and should be used instead. To use it run `pip install -U :class:`~langchain-ollama` and import as `from :class:`~langchain_ollama import OllamaLLM``.\n",
      "  llm = Ollama(\n",
      "2024-11-13 15:27:11,491 - 8171262720 - embedchain.py-embedchain:558 - WARNING: Starting from v0.1.125 the return type of query method will be changed to tuple containing `answer`.\n"
     ]
    },
    {
     "name": "stdout",
     "output_type": "stream",
     "text": [
      "To apply to Fei Tian College, you must adhere to several key guidelines including meeting specific academic prerequisites. This involves submitting a comprehensive application package that includes your test scores and detailed program or major declaration. Additionally, it's crucial for applicants who have completed previous learning credits to understand the college’s policy on credit transferability as this could impact their eligibility for financial aid if they do not meet certain academic progress measures such as maintaining a minimum cumulative GPA and enrolling full-time.\n",
      "\n"
     ]
    }
   ],
   "source": [
    "question = \"What are requirements for applying for Fei Tian College?\"\n",
    "answer = app.query(question)\n",
    "print(answer)"
   ]
  }
 ],
 "metadata": {
  "kernelspec": {
   "display_name": "cos243",
   "language": "python",
   "name": "python3"
  },
  "language_info": {
   "codemirror_mode": {
    "name": "ipython",
    "version": 3
   },
   "file_extension": ".py",
   "mimetype": "text/x-python",
   "name": "python",
   "nbconvert_exporter": "python",
   "pygments_lexer": "ipython3",
   "version": "3.10.15"
  }
 },
 "nbformat": 4,
 "nbformat_minor": 2
}
